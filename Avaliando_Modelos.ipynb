{
  "nbformat": 4,
  "nbformat_minor": 0,
  "metadata": {
    "colab": {
      "name": "Avaliando Modelos.ipynb",
      "provenance": [],
      "authorship_tag": "ABX9TyMZXGhmsa2Zu3c2wDMmWk0P",
      "include_colab_link": true
    },
    "kernelspec": {
      "name": "python3",
      "display_name": "Python 3"
    },
    "language_info": {
      "name": "python"
    }
  },
  "cells": [
    {
      "cell_type": "markdown",
      "metadata": {
        "id": "view-in-github",
        "colab_type": "text"
      },
      "source": [
        "<a href=\"https://colab.research.google.com/github/angelsoalmeida/imersao-dados-desafio-final/blob/main/Avaliando_Modelos.ipynb\" target=\"_parent\"><img src=\"https://colab.research.google.com/assets/colab-badge.svg\" alt=\"Open In Colab\"/></a>"
      ]
    },
    {
      "cell_type": "markdown",
      "metadata": {
        "id": "n65EuXOj3til"
      },
      "source": [
        "##**Preparando bases para avaliar os modelos**"
      ]
    },
    {
      "cell_type": "code",
      "metadata": {
        "id": "fgYvqTmL2RMu"
      },
      "source": [
        "import pandas as pd\n",
        "import numpy as np\n",
        "\n",
        "#importando base experimento\n",
        "dados = pd.read_csv('https://github.com/alura-cursos/imersaodados3/blob/main/dados/dados_experimentos.zip?raw=true', compression = 'zip')\n",
        "#importando base resultado\n",
        "dados_resultados = pd.read_csv('https://github.com/alura-cursos/imersaodados3/blob/main/dados/dados_resultados.csv?raw=true')\n",
        "\n",
        "#efetuando alterações nas colunas\n",
        "mapa = {'droga': 'composto'}\n",
        "dados.rename(columns=mapa, inplace=True)\n",
        "\n",
        "#Criação de coluna contendo a quantidade de mecanismos ativados por id\n",
        "dados_resultados['n_moa'] = dados_resultados.drop('id', axis=1).sum(axis=1)\n",
        "\n",
        "#Criação de coluna informando se para determinado id houve ou não ativação de algum mecanismo de ação\n",
        "dados_resultados['ativo_moa'] = (dados_resultados['n_moa'] != 0)\n",
        "\n",
        "#Efetuando merge dos dados, ou seja juntado as tabelas experimentos e resultados com base no id\n",
        "dados_combinados = pd.merge(dados, dados_resultados[['id','n_moa', 'ativo_moa']], on='id')\n",
        "\n",
        "#removendo colunas que não deverão ser analisadas pelos modelos\n",
        "x = dados_combinados.drop(['id', 'n_moa', 'ativo_moa', 'composto'], axis=1)\n",
        "\n",
        "#convertendo colunas de categoria em valores numerico, pois alguns modelos não conseguem trabalhar com strings\n",
        "x = pd.get_dummies(x, columns=['tratamento', 'dose', 'tempo'])\n",
        "y = dados_combinados['ativo_moa'] "
      ],
      "execution_count": null,
      "outputs": []
    },
    {
      "cell_type": "code",
      "metadata": {
        "colab": {
          "base_uri": "https://localhost:8080/"
        },
        "id": "4tR32HBx4BQV",
        "outputId": "34f40bd9-2c05-44dd-d273-5923693ac58e"
      },
      "source": [
        "from sklearn.model_selection import train_test_split\n",
        "x_treino, x_teste, y_treino, y_teste = train_test_split(x, y, test_size = 0.2, stratify=y, random_state=376)\n",
        "\n",
        "print(\"Quantidade de dados de treino: %d \\nQuantidade de dados de teste: %d \" % (len(x_treino), len(x_teste)))"
      ],
      "execution_count": null,
      "outputs": [
        {
          "output_type": "stream",
          "text": [
            "Qunatidade de dados de treino: 19051 \n",
            "Quantidade de dados de teste: 4763 \n"
          ],
          "name": "stdout"
        }
      ]
    },
    {
      "cell_type": "code",
      "metadata": {
        "colab": {
          "base_uri": "https://localhost:8080/"
        },
        "id": "5hpTyRQH_mDx",
        "outputId": "1c485c03-0908-496f-c2f9-3c23d2ea0ab4"
      },
      "source": [
        "print(\"Quantidade de dados de y_treino: %d \\nQuantidade de dados de y_teste: %d \" % (len(y_treino), len(y_teste)))"
      ],
      "execution_count": null,
      "outputs": [
        {
          "output_type": "stream",
          "text": [
            "Quantidade de dados de y_treino: 19051 \n",
            "Quantidade de dados de y_teste: 4763 \n"
          ],
          "name": "stdout"
        }
      ]
    },
    {
      "cell_type": "markdown",
      "metadata": {
        "id": "2G3HABI3yLln"
      },
      "source": [
        "##**DummyClassifier**"
      ]
    },
    {
      "cell_type": "markdown",
      "metadata": {
        "id": "xz23k1KRyHuH"
      },
      "source": [
        "Utilizando dummy somente para setar baseline de comparação, devido a sua natureza não é aconselhável utilizar em modelos reais."
      ]
    },
    {
      "cell_type": "code",
      "metadata": {
        "colab": {
          "base_uri": "https://localhost:8080/"
        },
        "id": "6PV_GD0aye52",
        "outputId": "e59f8ff5-afcd-4b42-cd70-ea2d00d8c241"
      },
      "source": [
        "from sklearn.dummy import DummyClassifier\n",
        "from sklearn.metrics import accuracy_score\n",
        "\n",
        "#dummy sem parametros assume stratified como estratégia\n",
        "modelo_dummy = DummyClassifier()\n",
        "modelo_dummy.fit(x_treino, y_treino)\n",
        "previsao_dummy = modelo_dummy.predict(x_teste)\n",
        "print(\"Acuracia Dummy Stratified %.2f%%\" %accuracy_score(y_teste, previsao_dummy))\n",
        "\n",
        "modelo_dummy_mf = DummyClassifier('most_frequent')\n",
        "modelo_dummy_mf.fit(x_treino, y_treino)\n",
        "previsao_dummy_mf = modelo_dummy_mf.predict(x_teste)\n",
        "print(\"Acuracia Dummy Most Frequent %.2f%%\" %accuracy_score(y_teste, previsao_dummy_mf))"
      ],
      "execution_count": null,
      "outputs": [
        {
          "output_type": "stream",
          "text": [
            "Acuracia Dummy Stratified 0.52%\n",
            "Acuracia Dummy Most Frequent 0.61%\n"
          ],
          "name": "stdout"
        },
        {
          "output_type": "stream",
          "text": [
            "/usr/local/lib/python3.7/dist-packages/sklearn/dummy.py:132: FutureWarning: The default value of strategy will change from stratified to prior in 0.24.\n",
            "  \"stratified to prior in 0.24.\", FutureWarning)\n"
          ],
          "name": "stderr"
        }
      ]
    },
    {
      "cell_type": "markdown",
      "metadata": {
        "id": "G-97h7slzuEA"
      },
      "source": [
        "Conforme verificado o modelo DummyClassifier com a estrategia *most frequent *teve uma acurácia melhor que a do *stratified*, por isso usaremos o most frequent como baseline.\n",
        "\n",
        "\n"
      ]
    },
    {
      "cell_type": "markdown",
      "metadata": {
        "id": "IBNuJBKyxJkn"
      },
      "source": [
        "##**LogisticRegression**"
      ]
    },
    {
      "cell_type": "code",
      "metadata": {
        "colab": {
          "base_uri": "https://localhost:8080/"
        },
        "id": "KVBZJJ9Xuwv6",
        "outputId": "cc104f2a-f984-4492-e74c-aaeec3fee38e"
      },
      "source": [
        "from sklearn.linear_model import LogisticRegression\n",
        "\n",
        "modelo_rlogistica = LogisticRegression(max_iter=1000)\n",
        "modelo_rlogistica.fit(x_treino, y_treino)\n",
        "\n",
        "print(\"Acurácia do LogisticRegression %.2f%%\" % modelo_rlogistica.score(x_teste, y_teste))"
      ],
      "execution_count": null,
      "outputs": [
        {
          "output_type": "stream",
          "text": [
            "Acurácia do LogisticRegression 0.66%\n"
          ],
          "name": "stdout"
        }
      ]
    },
    {
      "cell_type": "markdown",
      "metadata": {
        "id": "5O4LFWB6xdkn"
      },
      "source": [
        "##**LinearSVC**"
      ]
    },
    {
      "cell_type": "code",
      "metadata": {
        "colab": {
          "base_uri": "https://localhost:8080/"
        },
        "id": "Ji4Nd7GXxcEJ",
        "outputId": "e6d91a88-9375-424f-9d42-1fcad54cf288"
      },
      "source": [
        "from sklearn.model_selection import train_test_split\n",
        "from sklearn.svm import LinearSVC\n",
        "from sklearn.metrics import accuracy_score\n",
        "\n",
        "#setamos o parametro seed do random do numpy porque alguns modelos o utilizam\n",
        "random = 5\n",
        "np.random.seed(random)\n",
        "\n",
        "modelo = LinearSVC()\n",
        "modelo.fit(x_treino, y_treino)\n",
        "previsoes = modelo.predict(x_teste)\n",
        "\n",
        "acuracia = accuracy_score(y_teste, previsoes) * 100\n",
        "print(\"A acurácia LinearSVC foi %.2f%%\" % acuracia)"
      ],
      "execution_count": null,
      "outputs": [
        {
          "output_type": "stream",
          "text": [
            "A acurácia foi 60.84%\n"
          ],
          "name": "stdout"
        },
        {
          "output_type": "stream",
          "text": [
            "/usr/local/lib/python3.7/dist-packages/sklearn/svm/_base.py:947: ConvergenceWarning: Liblinear failed to converge, increase the number of iterations.\n",
            "  \"the number of iterations.\", ConvergenceWarning)\n"
          ],
          "name": "stderr"
        }
      ]
    },
    {
      "cell_type": "markdown",
      "metadata": {
        "id": "XxkYc9i81BJJ"
      },
      "source": [
        "##**DecisionTreeClassifier**"
      ]
    },
    {
      "cell_type": "code",
      "metadata": {
        "id": "_EnWpFl91CZS",
        "colab": {
          "base_uri": "https://localhost:8080/"
        },
        "outputId": "a94be3b2-7267-4550-f2a3-590124c25d20"
      },
      "source": [
        "from sklearn.tree import DecisionTreeClassifier\n",
        "from sklearn.metrics import accuracy_score\n",
        "\n",
        "modelo_arvore = DecisionTreeClassifier(max_depth=6)\n",
        "modelo_arvore.fit(treino_x, y_treino)\n",
        "previsoes = modelo_arvore.predict(treino_x)\n",
        "\n",
        "acuracia = accuracy_score(y_treino, previsoes) * 100\n",
        "print(\"A acuracia DecisionTreeClassifier do treino foi %.2f%%\" % acuracia)\n"
      ],
      "execution_count": null,
      "outputs": [
        {
          "output_type": "stream",
          "text": [
            "A acuracia DecisionTreeClassifier do treino foi 69.64%\n"
          ],
          "name": "stdout"
        }
      ]
    },
    {
      "cell_type": "markdown",
      "metadata": {
        "id": "G51FQ7Bl5ZH8"
      },
      "source": [
        "###Verificando possibilidades de max depht para árvore de decisão"
      ]
    },
    {
      "cell_type": "code",
      "metadata": {
        "id": "ZE3okVGoxTi_",
        "colab": {
          "base_uri": "https://localhost:8080/"
        },
        "outputId": "800394ec-1208-4ea1-a940-4437cd3c96ae"
      },
      "source": [
        "#verificando possibilidades de max_depth para arvore de decisão\n",
        "for random in range(5,10):\n",
        "  np.random.seed(random)\n",
        "  treino_x, teste_x, treino_y, teste_y = train_test_split(x, y, test_size = 0.25,\n",
        "                                                          stratify = y)\n",
        "  print(\"np.random.seed= %d\" % random)\n",
        "\n",
        "  for i in range(1,11):\n",
        "    modelo = DecisionTreeClassifier(max_depth=i)\n",
        "    modelo.fit(treino_x, treino_y)\n",
        "    previsoes = modelo.predict(teste_x)\n",
        "\n",
        "    acuracia = accuracy_score(teste_y, previsoes) * 100\n",
        "    print(\"\\nmax_depth %d\" % i)\n",
        "    print(\"\\nA acurácia foi %.2f%%\" % acuracia)"
      ],
      "execution_count": null,
      "outputs": [
        {
          "output_type": "stream",
          "text": [
            "np.random.seed= 5\n",
            "\n",
            "max_depth 1\n",
            "\n",
            "A acurácia foi 68.39%\n",
            "\n",
            "max_depth 2\n",
            "\n",
            "A acurácia foi 68.39%\n",
            "\n",
            "max_depth 3\n",
            "\n",
            "A acurácia foi 68.53%\n",
            "\n",
            "max_depth 4\n",
            "\n",
            "A acurácia foi 68.56%\n",
            "\n",
            "max_depth 5\n",
            "\n",
            "A acurácia foi 68.66%\n",
            "\n",
            "max_depth 6\n",
            "\n",
            "A acurácia foi 68.51%\n",
            "\n",
            "max_depth 7\n",
            "\n",
            "A acurácia foi 68.54%\n",
            "\n",
            "max_depth 8\n",
            "\n",
            "A acurácia foi 68.59%\n",
            "\n",
            "max_depth 9\n",
            "\n",
            "A acurácia foi 68.12%\n",
            "\n",
            "max_depth 10\n",
            "\n",
            "A acurácia foi 68.00%\n",
            "np.random.seed= 6\n",
            "\n",
            "max_depth 1\n",
            "\n",
            "A acurácia foi 68.39%\n",
            "\n",
            "max_depth 2\n",
            "\n",
            "A acurácia foi 68.39%\n",
            "\n",
            "max_depth 3\n",
            "\n",
            "A acurácia foi 68.83%\n",
            "\n",
            "max_depth 4\n",
            "\n",
            "A acurácia foi 68.64%\n",
            "\n",
            "max_depth 5\n",
            "\n",
            "A acurácia foi 68.89%\n",
            "\n",
            "max_depth 6\n",
            "\n",
            "A acurácia foi 68.74%\n",
            "\n",
            "max_depth 7\n",
            "\n",
            "A acurácia foi 68.68%\n",
            "\n",
            "max_depth 8\n",
            "\n",
            "A acurácia foi 68.42%\n",
            "\n",
            "max_depth 9\n",
            "\n",
            "A acurácia foi 67.53%\n",
            "\n",
            "max_depth 10\n",
            "\n",
            "A acurácia foi 67.35%\n",
            "np.random.seed= 7\n",
            "\n",
            "max_depth 1\n",
            "\n",
            "A acurácia foi 68.95%\n",
            "\n",
            "max_depth 2\n",
            "\n",
            "A acurácia foi 68.95%\n",
            "\n",
            "max_depth 3\n",
            "\n",
            "A acurácia foi 69.05%\n",
            "\n",
            "max_depth 4\n",
            "\n",
            "A acurácia foi 68.98%\n",
            "\n",
            "max_depth 5\n",
            "\n",
            "A acurácia foi 69.21%\n",
            "\n",
            "max_depth 6\n",
            "\n",
            "A acurácia foi 69.21%\n",
            "\n",
            "max_depth 7\n",
            "\n",
            "A acurácia foi 69.00%\n",
            "\n",
            "max_depth 8\n",
            "\n",
            "A acurácia foi 68.98%\n",
            "\n",
            "max_depth 9\n",
            "\n",
            "A acurácia foi 68.89%\n",
            "\n",
            "max_depth 10\n",
            "\n",
            "A acurácia foi 68.91%\n",
            "np.random.seed= 8\n",
            "\n",
            "max_depth 1\n",
            "\n",
            "A acurácia foi 68.93%\n",
            "\n",
            "max_depth 2\n",
            "\n",
            "A acurácia foi 68.93%\n",
            "\n",
            "max_depth 3\n",
            "\n",
            "A acurácia foi 69.30%\n",
            "\n",
            "max_depth 4\n",
            "\n",
            "A acurácia foi 69.28%\n",
            "\n",
            "max_depth 5\n",
            "\n",
            "A acurácia foi 69.37%\n",
            "\n",
            "max_depth 6\n",
            "\n",
            "A acurácia foi 68.74%\n",
            "\n",
            "max_depth 7\n",
            "\n",
            "A acurácia foi 68.71%\n",
            "\n",
            "max_depth 8\n",
            "\n",
            "A acurácia foi 68.89%\n",
            "\n",
            "max_depth 9\n",
            "\n",
            "A acurácia foi 68.17%\n",
            "\n",
            "max_depth 10\n",
            "\n",
            "A acurácia foi 68.44%\n",
            "np.random.seed= 9\n",
            "\n",
            "max_depth 1\n",
            "\n",
            "A acurácia foi 68.11%\n",
            "\n",
            "max_depth 2\n",
            "\n",
            "A acurácia foi 68.11%\n",
            "\n",
            "max_depth 3\n",
            "\n",
            "A acurácia foi 68.41%\n",
            "\n",
            "max_depth 4\n",
            "\n",
            "A acurácia foi 68.58%\n",
            "\n",
            "max_depth 5\n",
            "\n",
            "A acurácia foi 68.59%\n",
            "\n",
            "max_depth 6\n",
            "\n",
            "A acurácia foi 68.49%\n",
            "\n",
            "max_depth 7\n",
            "\n",
            "A acurácia foi 68.49%\n",
            "\n",
            "max_depth 8\n",
            "\n",
            "A acurácia foi 68.34%\n",
            "\n",
            "max_depth 9\n",
            "\n",
            "A acurácia foi 68.37%\n",
            "\n",
            "max_depth 10\n",
            "\n",
            "A acurácia foi 67.79%\n"
          ],
          "name": "stdout"
        }
      ]
    },
    {
      "cell_type": "markdown",
      "metadata": {
        "id": "DziUuGiwGC0p"
      },
      "source": [
        "Os testes não retornaram acuracia melhor do que os parametros originais portanto seguirei com os mesmos."
      ]
    },
    {
      "cell_type": "code",
      "metadata": {
        "id": "x4I363pRxH0o",
        "colab": {
          "base_uri": "https://localhost:8080/"
        },
        "outputId": "af01ba09-72d2-4166-9b8c-3939d88350f4"
      },
      "source": [
        "from sklearn.ensemble import RandomForestClassifier\n",
        "\n",
        "modelo_randomforest = RandomForestClassifier()\n",
        "modelo_randomforest.fit(treino_x, treino_y)\n",
        "modelo_randomforest.score(teste_x, teste_y)"
      ],
      "execution_count": null,
      "outputs": [
        {
          "output_type": "execute_result",
          "data": {
            "text/plain": [
              "0.6818945246892845"
            ]
          },
          "metadata": {
            "tags": []
          },
          "execution_count": 17
        }
      ]
    },
    {
      "cell_type": "code",
      "metadata": {
        "colab": {
          "base_uri": "https://localhost:8080/"
        },
        "id": "dcszVAcJHjbS",
        "outputId": "5cef9a74-856f-4d69-af1d-9c2892b3ed14"
      },
      "source": [
        "print(\"A acuracia RandomForestClassifier foi %.2f%%\" % modelo_randomforest.score(teste_x, teste_y))"
      ],
      "execution_count": null,
      "outputs": [
        {
          "output_type": "stream",
          "text": [
            "A acuracia RandomForestClassifier foi 0.68%\n"
          ],
          "name": "stdout"
        }
      ]
    },
    {
      "cell_type": "code",
      "metadata": {
        "id": "-vQSNm7UIT1Q"
      },
      "source": [
        ""
      ],
      "execution_count": null,
      "outputs": []
    }
  ]
}